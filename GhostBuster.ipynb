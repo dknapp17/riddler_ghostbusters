{
 "cells": [
  {
   "cell_type": "code",
   "execution_count": 2,
   "metadata": {},
   "outputs": [],
   "source": [
    "import numpy as np\n",
    "import matplotlib as plt"
   ]
  },
  {
   "cell_type": "code",
   "execution_count": 14,
   "metadata": {},
   "outputs": [
    {
     "data": {
      "text/plain": [
       "{'ghostbuster_type': 'camper', 'position': '', 'ID': ''}"
      ]
     },
     "execution_count": 14,
     "metadata": {},
     "output_type": "execute_result"
    }
   ],
   "source": [
    "class GhostBuster:\n",
    "    def __init__(self, ghostbuster_type, position=\"\", ID=\"\"):\n",
    "        self.ghostbuster_type = ghostbuster_type  # Can be 'alien' or 'alien'\n",
    "        self.position = position  # Initialized as empty\n",
    "        self.ID = ID  # Initialized as empty\n",
    "\n",
    "gb = GhostBuster(\"camper\")\n",
    "gb.__dict__"
   ]
  },
  {
   "cell_type": "code",
   "execution_count": 43,
   "metadata": {},
   "outputs": [
    {
     "name": "stdout",
     "output_type": "stream",
     "text": [
      "Type: camper, ID: A, Position: 11\n",
      "Type: camper, ID: B, Position: 7\n",
      "Type: alien, ID: C, Position: 4\n",
      "Type: alien, ID: D, Position: 13\n"
     ]
    }
   ],
   "source": [
    "import random\n",
    "import string\n",
    "\n",
    "# GhostBuster class definition\n",
    "class GhostBuster:\n",
    "    def __init__(self, ghostbuster_type, position=\"\", ID=\"\"):\n",
    "        self.ghostbuster_type = ghostbuster_type  # Can be 'camper' or 'alien'\n",
    "        self.position = position  # Initialized as empty\n",
    "        self.ID = ID  # Initialized as empty\n",
    "\n",
    "# gb_game_state class definition\n",
    "class gb_game_state:\n",
    "    def __init__(self, num_campers, num_pairs, game_type):\n",
    "        # Check if num_campers is greater than 26\n",
    "        if num_campers > 26:\n",
    "            raise ValueError(\"num_campers must be 26 or less.\")\n",
    "        \n",
    "        # Check if num_pairs is greater than half of num_campers\n",
    "        if num_pairs > num_campers // 2:\n",
    "            raise ValueError(\"num_pairs must be less than or equal to half of num_campers.\")\n",
    "        \n",
    "        # Check if num_campers is even\n",
    "        if num_campers % 2 != 0:\n",
    "            raise ValueError(\"num_campers must be an even integer.\")\n",
    "        \n",
    "        self.num_campers = num_campers  # Even integer\n",
    "        self.num_pairs = num_pairs\n",
    "        self.type = game_type  # Either \"random\" or \"manual\"\n",
    "        self.game_ID = self.generate_game_id()  # Random string generated on init\n",
    "        self.ghostbusters = []\n",
    "        self.camper_location_dict = {}\n",
    "        self.game_letters = string.ascii_uppercase[:self.num_campers]\n",
    "\n",
    "    def generate_game_id(self):\n",
    "        # Generate a random string of 8 characters for the game ID\n",
    "        return ''.join(random.choices(string.ascii_uppercase + string.digits, k=8))\n",
    "    \n",
    "    def create_ghostbusters(self):\n",
    "        letter_index = 0\n",
    "        \n",
    "        # Create one camper and one alien ghostbuster for each pair\n",
    "        for _ in range(self.num_pairs):\n",
    "            # Create one camper ghostbuster and assign an ID using letters\n",
    "            camper_id = self.game_letters[letter_index]\n",
    "            camper_ghostbuster = GhostBuster('camper', ID=camper_id)\n",
    "            self.ghostbusters.append(camper_ghostbuster)\n",
    "            letter_index += 1\n",
    "\n",
    "        for _ in range(self.num_pairs):    \n",
    "            # Create one alien ghostbuster and assign an ID using letters\n",
    "            alien_id = self.game_letters[letter_index]\n",
    "            alien_ghostbuster = GhostBuster('alien', ID=alien_id)\n",
    "            self.ghostbusters.append(alien_ghostbuster)\n",
    "            letter_index += 1\n",
    "    \n",
    "    def set_ghostbuster_positions_rand(self):\n",
    "        # Generate a list of unique random positions\n",
    "        unique_positions = random.sample(range(self.num_campers), self.num_campers)\n",
    "        \n",
    "        # Assign positions to ghostbusters\n",
    "        for i, ghostbuster in enumerate(self.ghostbusters):\n",
    "            ghostbuster.position = unique_positions[i]\n",
    "        \n",
    "# Example usage\n",
    "try:\n",
    "    game = gb_game_state(20, 2, \"random\")\n",
    "    game.create_ghostbusters()\n",
    "    game.set_ghostbuster_positions_rand()\n",
    "\n",
    "    # Output the ghostbuster types, IDs, and positions created\n",
    "    for gb in game.ghostbusters:\n",
    "        print(f\"Type: {gb.ghostbuster_type}, ID: {gb.ID}, Position: {gb.position}\")\n",
    "except ValueError as e:\n",
    "    print(e)\n",
    "\n",
    "\n",
    "\n",
    "# intersection: get positions of a and c\n",
    "\n"
   ]
  },
  {
   "cell_type": "code",
   "execution_count": 39,
   "metadata": {},
   "outputs": [
    {
     "data": {
      "text/plain": [
       "'ABCDEFGHIJKLMNOPQRSTUVWXYZ'"
      ]
     },
     "execution_count": 39,
     "metadata": {},
     "output_type": "execute_result"
    }
   ],
   "source": [
    "string.ascii_uppercase"
   ]
  },
  {
   "cell_type": "code",
   "execution_count": 34,
   "metadata": {},
   "outputs": [
    {
     "data": {
      "text/plain": [
       "'D'"
      ]
     },
     "execution_count": 34,
     "metadata": {},
     "output_type": "execute_result"
    }
   ],
   "source": [
    "game1 = gb_game_state(num_campers=20,num_pairs=2,game_type=\"random\")\n",
    "game1.create_ghostbusters()\n",
    "game1.__dict__\n",
    "game1.ghostbusters[3].ID"
   ]
  },
  {
   "cell_type": "code",
   "execution_count": 12,
   "metadata": {},
   "outputs": [
    {
     "data": {
      "text/plain": [
       "{0: (np.float64(5.0), np.float64(0.0)),\n",
       " 1: (np.float64(4.045084971874737), np.float64(2.938926261462366)),\n",
       " 2: (np.float64(1.5450849718747373), np.float64(4.755282581475767)),\n",
       " 3: (np.float64(-1.5450849718747368), np.float64(4.755282581475768)),\n",
       " 4: (np.float64(-4.045084971874736), np.float64(2.9389262614623664)),\n",
       " 5: (np.float64(-5.0), np.float64(6.123233995736766e-16)),\n",
       " 6: (np.float64(-4.045084971874737), np.float64(-2.938926261462365)),\n",
       " 7: (np.float64(-1.5450849718747377), np.float64(-4.755282581475767)),\n",
       " 8: (np.float64(1.5450849718747361), np.float64(-4.755282581475768)),\n",
       " 9: (np.float64(4.045084971874736), np.float64(-2.9389262614623664))}"
      ]
     },
     "execution_count": 12,
     "metadata": {},
     "output_type": "execute_result"
    }
   ],
   "source": [
    "# Modify the class to include dot_dict, which maps each dot's index to its position as a dictionary.\n",
    "\n",
    "class CircleOfDots:\n",
    "    def __init__(self, radius, num_dots, num_pairs=2):\n",
    "        \"\"\"\n",
    "        Initialize the circle with a given radius, number of dots, number of pairs to connect,\n",
    "        and create dot_dict as a dictionary mapping each dot to its position.\n",
    "        \n",
    "        :param radius: The radius of the circle\n",
    "        :param num_dots: Number of evenly spaced dots around the circle\n",
    "        :param num_pairs: Number of pairs of dots to connect with red lines (default is 2)\n",
    "        \"\"\"\n",
    "        self.radius = radius\n",
    "        self.num_dots = num_dots\n",
    "        self.num_pairs = num_pairs\n",
    "        self.angles = np.linspace(0, 2 * np.pi, num_dots, endpoint=False)  # Divide the circle evenly\n",
    "        self.dot_dict = self.create_dot_dict()  # Create dot_dict\n",
    "\n",
    "    def create_dot_dict(self):\n",
    "        \"\"\"\n",
    "        Create a dictionary that maps each dot's index to its (x, y) position.\n",
    "        \n",
    "        :return: A dictionary with dot index as key and (x, y) position as value\n",
    "        \"\"\"\n",
    "        x_positions = self.radius * np.cos(self.angles)\n",
    "        y_positions = self.radius * np.sin(self.angles)\n",
    "        return {i: (x_positions[i], y_positions[i]) for i in range(self.num_dots)}\n",
    "\n",
    "    def plot_circle(self):\n",
    "        \"\"\"\n",
    "        Plot the circle with the dots on it.\n",
    "        \"\"\"\n",
    "        dot_positions = list(self.dot_dict.values())\n",
    "        x_positions, y_positions = zip(*dot_positions)\n",
    "\n",
    "        plt.figure(figsize=(5, 5))\n",
    "        plt.plot(x_positions, y_positions, 'bo')  # Blue dots\n",
    "        plt.gca().set_aspect('equal', adjustable='box')\n",
    "        plt.title(f'Circle with {self.num_dots} Dots')\n",
    "        plt.show()\n",
    "\n",
    "    def connect_pairs(self):\n",
    "        \"\"\"\n",
    "        Connect num_pairs of dots on the circle with red lines.\n",
    "        The pairs are selected by connecting each dot with the dot opposite to it on the circle.\n",
    "        \"\"\"\n",
    "        dot_positions = list(self.dot_dict.values())\n",
    "        x_positions, y_positions = zip(*dot_positions)\n",
    "\n",
    "        # Plot the circle and dots\n",
    "        plt.figure(figsize=(5, 5))\n",
    "        plt.plot(x_positions, y_positions, 'bo')  # Blue dots\n",
    "\n",
    "        # Connect num_pairs of dots\n",
    "        for i in range(self.num_pairs):\n",
    "            dot1 = dot_positions[i]\n",
    "            dot2 = dot_positions[(i + self.num_dots // 2) % self.num_dots]  # Opposite dot\n",
    "            plt.plot([dot1[0], dot2[0]], [dot1[1], dot2[1]], 'r-')  # Red line\n",
    "\n",
    "        # Set aspect and title\n",
    "        plt.gca().set_aspect('equal', adjustable='box')\n",
    "        plt.title(f'Connecting {self.num_pairs} Pairs of Dots')\n",
    "        plt.show()\n",
    "\n",
    "\n",
    "# Example usage\n",
    "circle = CircleOfDots(radius=5, num_dots=10, num_pairs=3)\n",
    "circle.dot_dict  # The dictionary mapping dots to their positions\n",
    "\n"
   ]
  },
  {
   "cell_type": "markdown",
   "metadata": {},
   "source": [
    "### Next Steps\n",
    "- create locations of A, B, C, D (or any number of pairs) as attributes\n",
    "- modify method to plot circle showing full representation of problem (bonus points for adding animation and icons)\n",
    "- simulate with random locations of A, B, C, D (bonus points for full mathematical solution)\n",
    "- end product: an app that visualizes game and records results to database"
   ]
  }
 ],
 "metadata": {
  "kernelspec": {
   "display_name": "venv",
   "language": "python",
   "name": "python3"
  },
  "language_info": {
   "codemirror_mode": {
    "name": "ipython",
    "version": 3
   },
   "file_extension": ".py",
   "mimetype": "text/x-python",
   "name": "python",
   "nbconvert_exporter": "python",
   "pygments_lexer": "ipython3",
   "version": "3.13.0"
  }
 },
 "nbformat": 4,
 "nbformat_minor": 2
}
